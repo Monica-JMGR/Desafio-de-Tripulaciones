{
 "cells": [
  {
   "cell_type": "markdown",
   "metadata": {},
   "source": [
    "### Gráfica para Inscripciones Mensuales de Miembros"
   ]
  },
  {
   "cell_type": "code",
   "execution_count": 26,
   "metadata": {},
   "outputs": [],
   "source": [
    "import pandas as pd\n",
    "import numpy as np\n",
    "import plotly.express as px\n",
    "import plotly.graph_objects as go"
   ]
  },
  {
   "cell_type": "code",
   "execution_count": 51,
   "metadata": {},
   "outputs": [
    {
     "data": {
      "text/html": [
       "<div>\n",
       "<style scoped>\n",
       "    .dataframe tbody tr th:only-of-type {\n",
       "        vertical-align: middle;\n",
       "    }\n",
       "\n",
       "    .dataframe tbody tr th {\n",
       "        vertical-align: top;\n",
       "    }\n",
       "\n",
       "    .dataframe thead th {\n",
       "        text-align: right;\n",
       "    }\n",
       "</style>\n",
       "<table border=\"1\" class=\"dataframe\">\n",
       "  <thead>\n",
       "    <tr style=\"text-align: right;\">\n",
       "      <th></th>\n",
       "      <th>nombre</th>\n",
       "      <th>apellidos</th>\n",
       "      <th>nombreApellidos</th>\n",
       "      <th>movil</th>\n",
       "      <th>codigoPostal</th>\n",
       "      <th>pass</th>\n",
       "      <th>perfil</th>\n",
       "      <th>serviciosDisponibles</th>\n",
       "      <th>status</th>\n",
       "      <th>fotoV</th>\n",
       "      <th>bio</th>\n",
       "      <th>fechaInscripcion</th>\n",
       "      <th>estrellas</th>\n",
       "      <th>nOpinion</th>\n",
       "    </tr>\n",
       "  </thead>\n",
       "  <tbody>\n",
       "    <tr>\n",
       "      <th>0</th>\n",
       "      <td>Feliciana</td>\n",
       "      <td>Cantón</td>\n",
       "      <td>Feliciana Cantón</td>\n",
       "      <td>694747145</td>\n",
       "      <td>40331</td>\n",
       "      <td>44349840</td>\n",
       "      <td>Voluntario</td>\n",
       "      <td>['Nuevas Tecnologías', 'Burocracia', 'Servicio...</td>\n",
       "      <td>1</td>\n",
       "      <td>hombre2.png</td>\n",
       "      <td>Soy una persona muy atenta. Me gusta aportar m...</td>\n",
       "      <td>19/11/2019</td>\n",
       "      <td>5.0</td>\n",
       "      <td>1</td>\n",
       "    </tr>\n",
       "    <tr>\n",
       "      <th>1</th>\n",
       "      <td>Amador</td>\n",
       "      <td>Llopis</td>\n",
       "      <td>Amador Llopis</td>\n",
       "      <td>607054985</td>\n",
       "      <td>44587</td>\n",
       "      <td>23964109</td>\n",
       "      <td>Voluntario</td>\n",
       "      <td>['Nuevas Tecnologías', 'El día a día', 'Burocr...</td>\n",
       "      <td>1</td>\n",
       "      <td>mujer1.png</td>\n",
       "      <td>Me gusta trabajar con otras personas, codo con...</td>\n",
       "      <td>28/05/2020</td>\n",
       "      <td>2.0</td>\n",
       "      <td>1</td>\n",
       "    </tr>\n",
       "    <tr>\n",
       "      <th>2</th>\n",
       "      <td>Jose Ignacio</td>\n",
       "      <td>Godoy</td>\n",
       "      <td>Jose Ignacio Godoy</td>\n",
       "      <td>682114060</td>\n",
       "      <td>22612</td>\n",
       "      <td>81577056</td>\n",
       "      <td>Voluntario</td>\n",
       "      <td>['Nuevas Tecnologías', 'Salud', 'Amigos y Ocio...</td>\n",
       "      <td>1</td>\n",
       "      <td>mujer1.png</td>\n",
       "      <td>Me gusta trabajar con otras personas, codo con...</td>\n",
       "      <td>10/02/2020</td>\n",
       "      <td>3.0</td>\n",
       "      <td>1</td>\n",
       "    </tr>\n",
       "  </tbody>\n",
       "</table>\n",
       "</div>"
      ],
      "text/plain": [
       "         nombre apellidos     nombreApellidos      movil  codigoPostal  \\\n",
       "0     Feliciana    Cantón    Feliciana Cantón  694747145         40331   \n",
       "1        Amador    Llopis       Amador Llopis  607054985         44587   \n",
       "2  Jose Ignacio     Godoy  Jose Ignacio Godoy  682114060         22612   \n",
       "\n",
       "       pass      perfil                               serviciosDisponibles  \\\n",
       "0  44349840  Voluntario  ['Nuevas Tecnologías', 'Burocracia', 'Servicio...   \n",
       "1  23964109  Voluntario  ['Nuevas Tecnologías', 'El día a día', 'Burocr...   \n",
       "2  81577056  Voluntario  ['Nuevas Tecnologías', 'Salud', 'Amigos y Ocio...   \n",
       "\n",
       "   status        fotoV                                                bio  \\\n",
       "0       1  hombre2.png  Soy una persona muy atenta. Me gusta aportar m...   \n",
       "1       1   mujer1.png  Me gusta trabajar con otras personas, codo con...   \n",
       "2       1   mujer1.png  Me gusta trabajar con otras personas, codo con...   \n",
       "\n",
       "  fechaInscripcion  estrellas  nOpinion  \n",
       "0       19/11/2019        5.0         1  \n",
       "1       28/05/2020        2.0         1  \n",
       "2       10/02/2020        3.0         1  "
      ]
     },
     "execution_count": 51,
     "metadata": {},
     "output_type": "execute_result"
    }
   ],
   "source": [
    "#leemos el csv\n",
    "voluntarios = pd.read_csv('tablas/voluntarios.csv', index_col=0)\n",
    "voluntarios.head(3)"
   ]
  },
  {
   "cell_type": "code",
   "execution_count": 28,
   "metadata": {},
   "outputs": [
    {
     "data": {
      "text/plain": [
       "Index(['nombre', 'apellidos', 'nombreApellidos', 'movil', 'codigoPostal',\n",
       "       'pass', 'perfil', 'serviciosDisponibles', 'status', 'fotoV', 'bio',\n",
       "       'fechaInscripcion', 'estrellas', 'nOpinion'],\n",
       "      dtype='object')"
      ]
     },
     "execution_count": 28,
     "metadata": {},
     "output_type": "execute_result"
    }
   ],
   "source": [
    "#comprobamos nombres de columnas\n",
    "voluntarios.columns"
   ]
  },
  {
   "cell_type": "code",
   "execution_count": 29,
   "metadata": {},
   "outputs": [
    {
     "data": {
      "text/plain": [
       "nombre                   object\n",
       "apellidos                object\n",
       "nombreApellidos          object\n",
       "movil                     int64\n",
       "codigoPostal              int64\n",
       "pass                      int64\n",
       "perfil                   object\n",
       "serviciosDisponibles     object\n",
       "status                    int64\n",
       "fotoV                    object\n",
       "bio                      object\n",
       "fechaInscripcion         object\n",
       "estrellas               float64\n",
       "nOpinion                  int64\n",
       "dtype: object"
      ]
     },
     "execution_count": 29,
     "metadata": {},
     "output_type": "execute_result"
    }
   ],
   "source": [
    "#comprobamos types\n",
    "voluntarios.dtypes"
   ]
  },
  {
   "cell_type": "code",
   "execution_count": 30,
   "metadata": {},
   "outputs": [],
   "source": [
    "#pasamos la columna de fechas a datetime\n",
    "voluntarios['fechaInscripcion'] = pd.to_datetime(voluntarios['fechaInscripcion'])"
   ]
  },
  {
   "cell_type": "code",
   "execution_count": 31,
   "metadata": {},
   "outputs": [
    {
     "data": {
      "text/plain": [
       "nombre                          object\n",
       "apellidos                       object\n",
       "nombreApellidos                 object\n",
       "movil                            int64\n",
       "codigoPostal                     int64\n",
       "pass                             int64\n",
       "perfil                          object\n",
       "serviciosDisponibles            object\n",
       "status                           int64\n",
       "fotoV                           object\n",
       "bio                             object\n",
       "fechaInscripcion        datetime64[ns]\n",
       "estrellas                      float64\n",
       "nOpinion                         int64\n",
       "dtype: object"
      ]
     },
     "execution_count": 31,
     "metadata": {},
     "output_type": "execute_result"
    }
   ],
   "source": [
    "#comprobamos el cambio\n",
    "voluntarios.dtypes"
   ]
  },
  {
   "cell_type": "code",
   "execution_count": 52,
   "metadata": {},
   "outputs": [
    {
     "data": {
      "text/plain": [
       "\"voluntarios=voluntarios.drop(['nombre', 'apellidos', 'movil','pass', 'fotoMiembro'], axis=1)\\nvoluntarios\""
      ]
     },
     "execution_count": 52,
     "metadata": {},
     "output_type": "execute_result"
    }
   ],
   "source": [
    "#eliminamos las columnas innecesarias\n",
    "'''voluntarios=voluntarios.drop(['nombre', 'apellidos', 'movil','pass', 'fotoMiembro'], axis=1)\n",
    "voluntarios'''"
   ]
  },
  {
   "cell_type": "code",
   "execution_count": 33,
   "metadata": {},
   "outputs": [],
   "source": [
    "#ordenamos por fecha de inscripcion\n",
    "voluntarios.sort_values(by='fechaInscripcion', inplace=True)"
   ]
  },
  {
   "cell_type": "code",
   "execution_count": 34,
   "metadata": {},
   "outputs": [],
   "source": [
    "#volvemos a pasar las fechas a string\n",
    "voluntarios['fechaInscripcion']=voluntarios['fechaInscripcion'].astype(str)"
   ]
  },
  {
   "cell_type": "code",
   "execution_count": 35,
   "metadata": {},
   "outputs": [
    {
     "name": "stdout",
     "output_type": "stream",
     "text": [
      "nombre                   object\n",
      "apellidos                object\n",
      "nombreApellidos          object\n",
      "movil                     int64\n",
      "codigoPostal              int64\n",
      "pass                      int64\n",
      "perfil                   object\n",
      "serviciosDisponibles     object\n",
      "status                    int64\n",
      "fotoV                    object\n",
      "bio                      object\n",
      "fechaInscripcion         object\n",
      "estrellas               float64\n",
      "nOpinion                  int64\n",
      "dtype: object\n"
     ]
    },
    {
     "data": {
      "text/html": [
       "<div>\n",
       "<style scoped>\n",
       "    .dataframe tbody tr th:only-of-type {\n",
       "        vertical-align: middle;\n",
       "    }\n",
       "\n",
       "    .dataframe tbody tr th {\n",
       "        vertical-align: top;\n",
       "    }\n",
       "\n",
       "    .dataframe thead th {\n",
       "        text-align: right;\n",
       "    }\n",
       "</style>\n",
       "<table border=\"1\" class=\"dataframe\">\n",
       "  <thead>\n",
       "    <tr style=\"text-align: right;\">\n",
       "      <th></th>\n",
       "      <th>nombre</th>\n",
       "      <th>apellidos</th>\n",
       "      <th>nombreApellidos</th>\n",
       "      <th>movil</th>\n",
       "      <th>codigoPostal</th>\n",
       "      <th>pass</th>\n",
       "      <th>perfil</th>\n",
       "      <th>serviciosDisponibles</th>\n",
       "      <th>status</th>\n",
       "      <th>fotoV</th>\n",
       "      <th>bio</th>\n",
       "      <th>fechaInscripcion</th>\n",
       "      <th>estrellas</th>\n",
       "      <th>nOpinion</th>\n",
       "    </tr>\n",
       "  </thead>\n",
       "  <tbody>\n",
       "    <tr>\n",
       "      <th>29</th>\n",
       "      <td>Crescencia</td>\n",
       "      <td>Fernandez</td>\n",
       "      <td>Crescencia Fernandez</td>\n",
       "      <td>610589320</td>\n",
       "      <td>15218</td>\n",
       "      <td>53377241</td>\n",
       "      <td>Voluntario</td>\n",
       "      <td>['Nuevas Tecnologías', 'Salud', 'Amigos y Ocio...</td>\n",
       "      <td>0</td>\n",
       "      <td>hombre2.png</td>\n",
       "      <td>Quiero devolver a la comunidad lo que me diero...</td>\n",
       "      <td>2019-01-07</td>\n",
       "      <td>4.0</td>\n",
       "      <td>1</td>\n",
       "    </tr>\n",
       "    <tr>\n",
       "      <th>9</th>\n",
       "      <td>Eligia</td>\n",
       "      <td>Amor</td>\n",
       "      <td>Eligia Amor</td>\n",
       "      <td>657614171</td>\n",
       "      <td>29010</td>\n",
       "      <td>77216346</td>\n",
       "      <td>Ambos</td>\n",
       "      <td>['Nuevas Tecnologías', 'Amigos y Ocio', 'El dí...</td>\n",
       "      <td>0</td>\n",
       "      <td>hombre2.png</td>\n",
       "      <td>Me encanta sertirme útil y por eso estaría enc...</td>\n",
       "      <td>2019-01-07</td>\n",
       "      <td>2.0</td>\n",
       "      <td>1</td>\n",
       "    </tr>\n",
       "    <tr>\n",
       "      <th>234</th>\n",
       "      <td>Casandra</td>\n",
       "      <td>Castejón</td>\n",
       "      <td>Casandra Castejón</td>\n",
       "      <td>619373364</td>\n",
       "      <td>26291</td>\n",
       "      <td>44477305</td>\n",
       "      <td>Ambos</td>\n",
       "      <td>['Salud', 'Burocracia']</td>\n",
       "      <td>1</td>\n",
       "      <td>hombre1.png</td>\n",
       "      <td>Me gusta trabajar con otras personas, codo con...</td>\n",
       "      <td>2019-01-09</td>\n",
       "      <td>1.5</td>\n",
       "      <td>2</td>\n",
       "    </tr>\n",
       "    <tr>\n",
       "      <th>486</th>\n",
       "      <td>Francisco</td>\n",
       "      <td>Piñeiro</td>\n",
       "      <td>Francisco Piñeiro</td>\n",
       "      <td>631593690</td>\n",
       "      <td>50683</td>\n",
       "      <td>72694472</td>\n",
       "      <td>Voluntario</td>\n",
       "      <td>['Salud', 'El día a día', 'Servicios del Munic...</td>\n",
       "      <td>1</td>\n",
       "      <td>hombre1.png</td>\n",
       "      <td>Quiero devolver a la comunidad lo que me diero...</td>\n",
       "      <td>2019-01-09</td>\n",
       "      <td>4.0</td>\n",
       "      <td>1</td>\n",
       "    </tr>\n",
       "    <tr>\n",
       "      <th>118</th>\n",
       "      <td>Paulino</td>\n",
       "      <td>Roda</td>\n",
       "      <td>Paulino Roda</td>\n",
       "      <td>613910581</td>\n",
       "      <td>5154</td>\n",
       "      <td>37818740</td>\n",
       "      <td>Ambos</td>\n",
       "      <td>['Amigos y Ocio', 'Burocracia']</td>\n",
       "      <td>1</td>\n",
       "      <td>hombre1.png</td>\n",
       "      <td>Me gusta trabajar con otras personas, codo con...</td>\n",
       "      <td>2019-01-09</td>\n",
       "      <td>5.0</td>\n",
       "      <td>1</td>\n",
       "    </tr>\n",
       "    <tr>\n",
       "      <th>...</th>\n",
       "      <td>...</td>\n",
       "      <td>...</td>\n",
       "      <td>...</td>\n",
       "      <td>...</td>\n",
       "      <td>...</td>\n",
       "      <td>...</td>\n",
       "      <td>...</td>\n",
       "      <td>...</td>\n",
       "      <td>...</td>\n",
       "      <td>...</td>\n",
       "      <td>...</td>\n",
       "      <td>...</td>\n",
       "      <td>...</td>\n",
       "      <td>...</td>\n",
       "    </tr>\n",
       "    <tr>\n",
       "      <th>458</th>\n",
       "      <td>Rosario</td>\n",
       "      <td>Lastra</td>\n",
       "      <td>Rosario Lastra</td>\n",
       "      <td>686478109</td>\n",
       "      <td>42145</td>\n",
       "      <td>87016038</td>\n",
       "      <td>Voluntario</td>\n",
       "      <td>['Nuevas Tecnologías', 'Burocracia', 'Servicio...</td>\n",
       "      <td>1</td>\n",
       "      <td>mujer2.png</td>\n",
       "      <td>Soy una persona muy atenta. Me gusta aportar m...</td>\n",
       "      <td>2022-10-04</td>\n",
       "      <td>5.0</td>\n",
       "      <td>1</td>\n",
       "    </tr>\n",
       "    <tr>\n",
       "      <th>157</th>\n",
       "      <td>Maximiano</td>\n",
       "      <td>Julián</td>\n",
       "      <td>Maximiano Julián</td>\n",
       "      <td>629470872</td>\n",
       "      <td>24760</td>\n",
       "      <td>43107968</td>\n",
       "      <td>Voluntario</td>\n",
       "      <td>['Salud', 'El día a día', 'Servicios del Munic...</td>\n",
       "      <td>1</td>\n",
       "      <td>mujer1.png</td>\n",
       "      <td>Soy una persona a la que le fascina conocer pe...</td>\n",
       "      <td>2022-10-05</td>\n",
       "      <td>3.0</td>\n",
       "      <td>2</td>\n",
       "    </tr>\n",
       "    <tr>\n",
       "      <th>130</th>\n",
       "      <td>Venceslás</td>\n",
       "      <td>Cabañas</td>\n",
       "      <td>Venceslás Cabañas</td>\n",
       "      <td>640338725</td>\n",
       "      <td>18292</td>\n",
       "      <td>37937627</td>\n",
       "      <td>Voluntario</td>\n",
       "      <td>['Nuevas Tecnologías', 'Salud', 'Servicios del...</td>\n",
       "      <td>1</td>\n",
       "      <td>hombre1.png</td>\n",
       "      <td>Soy una persona a la que le fascina conocer pe...</td>\n",
       "      <td>2022-10-05</td>\n",
       "      <td>3.0</td>\n",
       "      <td>2</td>\n",
       "    </tr>\n",
       "    <tr>\n",
       "      <th>162</th>\n",
       "      <td>Úrsula</td>\n",
       "      <td>Belmonte</td>\n",
       "      <td>Úrsula Belmonte</td>\n",
       "      <td>612331873</td>\n",
       "      <td>34468</td>\n",
       "      <td>14152370</td>\n",
       "      <td>Voluntario</td>\n",
       "      <td>['Salud', 'Amigos y Ocio']</td>\n",
       "      <td>0</td>\n",
       "      <td>mujer2.png</td>\n",
       "      <td>Me gusta trabajar con otras personas, codo con...</td>\n",
       "      <td>2022-11-03</td>\n",
       "      <td>1.5</td>\n",
       "      <td>2</td>\n",
       "    </tr>\n",
       "    <tr>\n",
       "      <th>102</th>\n",
       "      <td>Bernardo</td>\n",
       "      <td>Neira</td>\n",
       "      <td>Bernardo Neira</td>\n",
       "      <td>642437020</td>\n",
       "      <td>38650</td>\n",
       "      <td>55026898</td>\n",
       "      <td>Ambos</td>\n",
       "      <td>['Nuevas Tecnologías', 'Burocracia', 'Servicio...</td>\n",
       "      <td>1</td>\n",
       "      <td>hombre1.png</td>\n",
       "      <td>Soy una persona a la que le fascina conocer pe...</td>\n",
       "      <td>2022-12-01</td>\n",
       "      <td>5.0</td>\n",
       "      <td>1</td>\n",
       "    </tr>\n",
       "  </tbody>\n",
       "</table>\n",
       "<p>500 rows × 14 columns</p>\n",
       "</div>"
      ],
      "text/plain": [
       "         nombre  apellidos       nombreApellidos      movil  codigoPostal  \\\n",
       "29   Crescencia  Fernandez  Crescencia Fernandez  610589320         15218   \n",
       "9        Eligia       Amor           Eligia Amor  657614171         29010   \n",
       "234    Casandra   Castejón     Casandra Castejón  619373364         26291   \n",
       "486   Francisco    Piñeiro     Francisco Piñeiro  631593690         50683   \n",
       "118     Paulino       Roda          Paulino Roda  613910581          5154   \n",
       "..          ...        ...                   ...        ...           ...   \n",
       "458     Rosario     Lastra        Rosario Lastra  686478109         42145   \n",
       "157   Maximiano     Julián      Maximiano Julián  629470872         24760   \n",
       "130   Venceslás    Cabañas     Venceslás Cabañas  640338725         18292   \n",
       "162      Úrsula   Belmonte       Úrsula Belmonte  612331873         34468   \n",
       "102    Bernardo      Neira        Bernardo Neira  642437020         38650   \n",
       "\n",
       "         pass      perfil                               serviciosDisponibles  \\\n",
       "29   53377241  Voluntario  ['Nuevas Tecnologías', 'Salud', 'Amigos y Ocio...   \n",
       "9    77216346       Ambos  ['Nuevas Tecnologías', 'Amigos y Ocio', 'El dí...   \n",
       "234  44477305       Ambos                            ['Salud', 'Burocracia']   \n",
       "486  72694472  Voluntario  ['Salud', 'El día a día', 'Servicios del Munic...   \n",
       "118  37818740       Ambos                    ['Amigos y Ocio', 'Burocracia']   \n",
       "..        ...         ...                                                ...   \n",
       "458  87016038  Voluntario  ['Nuevas Tecnologías', 'Burocracia', 'Servicio...   \n",
       "157  43107968  Voluntario  ['Salud', 'El día a día', 'Servicios del Munic...   \n",
       "130  37937627  Voluntario  ['Nuevas Tecnologías', 'Salud', 'Servicios del...   \n",
       "162  14152370  Voluntario                         ['Salud', 'Amigos y Ocio']   \n",
       "102  55026898       Ambos  ['Nuevas Tecnologías', 'Burocracia', 'Servicio...   \n",
       "\n",
       "     status        fotoV                                                bio  \\\n",
       "29        0  hombre2.png  Quiero devolver a la comunidad lo que me diero...   \n",
       "9         0  hombre2.png  Me encanta sertirme útil y por eso estaría enc...   \n",
       "234       1  hombre1.png  Me gusta trabajar con otras personas, codo con...   \n",
       "486       1  hombre1.png  Quiero devolver a la comunidad lo que me diero...   \n",
       "118       1  hombre1.png  Me gusta trabajar con otras personas, codo con...   \n",
       "..      ...          ...                                                ...   \n",
       "458       1   mujer2.png  Soy una persona muy atenta. Me gusta aportar m...   \n",
       "157       1   mujer1.png  Soy una persona a la que le fascina conocer pe...   \n",
       "130       1  hombre1.png  Soy una persona a la que le fascina conocer pe...   \n",
       "162       0   mujer2.png  Me gusta trabajar con otras personas, codo con...   \n",
       "102       1  hombre1.png  Soy una persona a la que le fascina conocer pe...   \n",
       "\n",
       "    fechaInscripcion  estrellas  nOpinion  \n",
       "29        2019-01-07        4.0         1  \n",
       "9         2019-01-07        2.0         1  \n",
       "234       2019-01-09        1.5         2  \n",
       "486       2019-01-09        4.0         1  \n",
       "118       2019-01-09        5.0         1  \n",
       "..               ...        ...       ...  \n",
       "458       2022-10-04        5.0         1  \n",
       "157       2022-10-05        3.0         2  \n",
       "130       2022-10-05        3.0         2  \n",
       "162       2022-11-03        1.5         2  \n",
       "102       2022-12-01        5.0         1  \n",
       "\n",
       "[500 rows x 14 columns]"
      ]
     },
     "execution_count": 35,
     "metadata": {},
     "output_type": "execute_result"
    }
   ],
   "source": [
    "print(voluntarios.dtypes)\n",
    "voluntarios"
   ]
  },
  {
   "cell_type": "code",
   "execution_count": 36,
   "metadata": {},
   "outputs": [],
   "source": [
    "#eliminamos los dias de la fecha\n",
    "voluntarios['fechaInscripcion'] = voluntarios['fechaInscripcion'].str.slice_replace(7, repl='')"
   ]
  },
  {
   "cell_type": "code",
   "execution_count": 37,
   "metadata": {},
   "outputs": [
    {
     "data": {
      "text/html": [
       "<div>\n",
       "<style scoped>\n",
       "    .dataframe tbody tr th:only-of-type {\n",
       "        vertical-align: middle;\n",
       "    }\n",
       "\n",
       "    .dataframe tbody tr th {\n",
       "        vertical-align: top;\n",
       "    }\n",
       "\n",
       "    .dataframe thead th {\n",
       "        text-align: right;\n",
       "    }\n",
       "</style>\n",
       "<table border=\"1\" class=\"dataframe\">\n",
       "  <thead>\n",
       "    <tr style=\"text-align: right;\">\n",
       "      <th></th>\n",
       "      <th>nombre</th>\n",
       "      <th>apellidos</th>\n",
       "      <th>nombreApellidos</th>\n",
       "      <th>movil</th>\n",
       "      <th>codigoPostal</th>\n",
       "      <th>pass</th>\n",
       "      <th>perfil</th>\n",
       "      <th>serviciosDisponibles</th>\n",
       "      <th>status</th>\n",
       "      <th>fotoV</th>\n",
       "      <th>bio</th>\n",
       "      <th>fechaInscripcion</th>\n",
       "      <th>estrellas</th>\n",
       "      <th>nOpinion</th>\n",
       "    </tr>\n",
       "  </thead>\n",
       "  <tbody>\n",
       "    <tr>\n",
       "      <th>29</th>\n",
       "      <td>Crescencia</td>\n",
       "      <td>Fernandez</td>\n",
       "      <td>Crescencia Fernandez</td>\n",
       "      <td>610589320</td>\n",
       "      <td>15218</td>\n",
       "      <td>53377241</td>\n",
       "      <td>Voluntario</td>\n",
       "      <td>['Nuevas Tecnologías', 'Salud', 'Amigos y Ocio...</td>\n",
       "      <td>0</td>\n",
       "      <td>hombre2.png</td>\n",
       "      <td>Quiero devolver a la comunidad lo que me diero...</td>\n",
       "      <td>2019-01</td>\n",
       "      <td>4.0</td>\n",
       "      <td>1</td>\n",
       "    </tr>\n",
       "    <tr>\n",
       "      <th>9</th>\n",
       "      <td>Eligia</td>\n",
       "      <td>Amor</td>\n",
       "      <td>Eligia Amor</td>\n",
       "      <td>657614171</td>\n",
       "      <td>29010</td>\n",
       "      <td>77216346</td>\n",
       "      <td>Ambos</td>\n",
       "      <td>['Nuevas Tecnologías', 'Amigos y Ocio', 'El dí...</td>\n",
       "      <td>0</td>\n",
       "      <td>hombre2.png</td>\n",
       "      <td>Me encanta sertirme útil y por eso estaría enc...</td>\n",
       "      <td>2019-01</td>\n",
       "      <td>2.0</td>\n",
       "      <td>1</td>\n",
       "    </tr>\n",
       "    <tr>\n",
       "      <th>234</th>\n",
       "      <td>Casandra</td>\n",
       "      <td>Castejón</td>\n",
       "      <td>Casandra Castejón</td>\n",
       "      <td>619373364</td>\n",
       "      <td>26291</td>\n",
       "      <td>44477305</td>\n",
       "      <td>Ambos</td>\n",
       "      <td>['Salud', 'Burocracia']</td>\n",
       "      <td>1</td>\n",
       "      <td>hombre1.png</td>\n",
       "      <td>Me gusta trabajar con otras personas, codo con...</td>\n",
       "      <td>2019-01</td>\n",
       "      <td>1.5</td>\n",
       "      <td>2</td>\n",
       "    </tr>\n",
       "    <tr>\n",
       "      <th>486</th>\n",
       "      <td>Francisco</td>\n",
       "      <td>Piñeiro</td>\n",
       "      <td>Francisco Piñeiro</td>\n",
       "      <td>631593690</td>\n",
       "      <td>50683</td>\n",
       "      <td>72694472</td>\n",
       "      <td>Voluntario</td>\n",
       "      <td>['Salud', 'El día a día', 'Servicios del Munic...</td>\n",
       "      <td>1</td>\n",
       "      <td>hombre1.png</td>\n",
       "      <td>Quiero devolver a la comunidad lo que me diero...</td>\n",
       "      <td>2019-01</td>\n",
       "      <td>4.0</td>\n",
       "      <td>1</td>\n",
       "    </tr>\n",
       "    <tr>\n",
       "      <th>118</th>\n",
       "      <td>Paulino</td>\n",
       "      <td>Roda</td>\n",
       "      <td>Paulino Roda</td>\n",
       "      <td>613910581</td>\n",
       "      <td>5154</td>\n",
       "      <td>37818740</td>\n",
       "      <td>Ambos</td>\n",
       "      <td>['Amigos y Ocio', 'Burocracia']</td>\n",
       "      <td>1</td>\n",
       "      <td>hombre1.png</td>\n",
       "      <td>Me gusta trabajar con otras personas, codo con...</td>\n",
       "      <td>2019-01</td>\n",
       "      <td>5.0</td>\n",
       "      <td>1</td>\n",
       "    </tr>\n",
       "    <tr>\n",
       "      <th>...</th>\n",
       "      <td>...</td>\n",
       "      <td>...</td>\n",
       "      <td>...</td>\n",
       "      <td>...</td>\n",
       "      <td>...</td>\n",
       "      <td>...</td>\n",
       "      <td>...</td>\n",
       "      <td>...</td>\n",
       "      <td>...</td>\n",
       "      <td>...</td>\n",
       "      <td>...</td>\n",
       "      <td>...</td>\n",
       "      <td>...</td>\n",
       "      <td>...</td>\n",
       "    </tr>\n",
       "    <tr>\n",
       "      <th>458</th>\n",
       "      <td>Rosario</td>\n",
       "      <td>Lastra</td>\n",
       "      <td>Rosario Lastra</td>\n",
       "      <td>686478109</td>\n",
       "      <td>42145</td>\n",
       "      <td>87016038</td>\n",
       "      <td>Voluntario</td>\n",
       "      <td>['Nuevas Tecnologías', 'Burocracia', 'Servicio...</td>\n",
       "      <td>1</td>\n",
       "      <td>mujer2.png</td>\n",
       "      <td>Soy una persona muy atenta. Me gusta aportar m...</td>\n",
       "      <td>2022-10</td>\n",
       "      <td>5.0</td>\n",
       "      <td>1</td>\n",
       "    </tr>\n",
       "    <tr>\n",
       "      <th>157</th>\n",
       "      <td>Maximiano</td>\n",
       "      <td>Julián</td>\n",
       "      <td>Maximiano Julián</td>\n",
       "      <td>629470872</td>\n",
       "      <td>24760</td>\n",
       "      <td>43107968</td>\n",
       "      <td>Voluntario</td>\n",
       "      <td>['Salud', 'El día a día', 'Servicios del Munic...</td>\n",
       "      <td>1</td>\n",
       "      <td>mujer1.png</td>\n",
       "      <td>Soy una persona a la que le fascina conocer pe...</td>\n",
       "      <td>2022-10</td>\n",
       "      <td>3.0</td>\n",
       "      <td>2</td>\n",
       "    </tr>\n",
       "    <tr>\n",
       "      <th>130</th>\n",
       "      <td>Venceslás</td>\n",
       "      <td>Cabañas</td>\n",
       "      <td>Venceslás Cabañas</td>\n",
       "      <td>640338725</td>\n",
       "      <td>18292</td>\n",
       "      <td>37937627</td>\n",
       "      <td>Voluntario</td>\n",
       "      <td>['Nuevas Tecnologías', 'Salud', 'Servicios del...</td>\n",
       "      <td>1</td>\n",
       "      <td>hombre1.png</td>\n",
       "      <td>Soy una persona a la que le fascina conocer pe...</td>\n",
       "      <td>2022-10</td>\n",
       "      <td>3.0</td>\n",
       "      <td>2</td>\n",
       "    </tr>\n",
       "    <tr>\n",
       "      <th>162</th>\n",
       "      <td>Úrsula</td>\n",
       "      <td>Belmonte</td>\n",
       "      <td>Úrsula Belmonte</td>\n",
       "      <td>612331873</td>\n",
       "      <td>34468</td>\n",
       "      <td>14152370</td>\n",
       "      <td>Voluntario</td>\n",
       "      <td>['Salud', 'Amigos y Ocio']</td>\n",
       "      <td>0</td>\n",
       "      <td>mujer2.png</td>\n",
       "      <td>Me gusta trabajar con otras personas, codo con...</td>\n",
       "      <td>2022-11</td>\n",
       "      <td>1.5</td>\n",
       "      <td>2</td>\n",
       "    </tr>\n",
       "    <tr>\n",
       "      <th>102</th>\n",
       "      <td>Bernardo</td>\n",
       "      <td>Neira</td>\n",
       "      <td>Bernardo Neira</td>\n",
       "      <td>642437020</td>\n",
       "      <td>38650</td>\n",
       "      <td>55026898</td>\n",
       "      <td>Ambos</td>\n",
       "      <td>['Nuevas Tecnologías', 'Burocracia', 'Servicio...</td>\n",
       "      <td>1</td>\n",
       "      <td>hombre1.png</td>\n",
       "      <td>Soy una persona a la que le fascina conocer pe...</td>\n",
       "      <td>2022-12</td>\n",
       "      <td>5.0</td>\n",
       "      <td>1</td>\n",
       "    </tr>\n",
       "  </tbody>\n",
       "</table>\n",
       "<p>500 rows × 14 columns</p>\n",
       "</div>"
      ],
      "text/plain": [
       "         nombre  apellidos       nombreApellidos      movil  codigoPostal  \\\n",
       "29   Crescencia  Fernandez  Crescencia Fernandez  610589320         15218   \n",
       "9        Eligia       Amor           Eligia Amor  657614171         29010   \n",
       "234    Casandra   Castejón     Casandra Castejón  619373364         26291   \n",
       "486   Francisco    Piñeiro     Francisco Piñeiro  631593690         50683   \n",
       "118     Paulino       Roda          Paulino Roda  613910581          5154   \n",
       "..          ...        ...                   ...        ...           ...   \n",
       "458     Rosario     Lastra        Rosario Lastra  686478109         42145   \n",
       "157   Maximiano     Julián      Maximiano Julián  629470872         24760   \n",
       "130   Venceslás    Cabañas     Venceslás Cabañas  640338725         18292   \n",
       "162      Úrsula   Belmonte       Úrsula Belmonte  612331873         34468   \n",
       "102    Bernardo      Neira        Bernardo Neira  642437020         38650   \n",
       "\n",
       "         pass      perfil                               serviciosDisponibles  \\\n",
       "29   53377241  Voluntario  ['Nuevas Tecnologías', 'Salud', 'Amigos y Ocio...   \n",
       "9    77216346       Ambos  ['Nuevas Tecnologías', 'Amigos y Ocio', 'El dí...   \n",
       "234  44477305       Ambos                            ['Salud', 'Burocracia']   \n",
       "486  72694472  Voluntario  ['Salud', 'El día a día', 'Servicios del Munic...   \n",
       "118  37818740       Ambos                    ['Amigos y Ocio', 'Burocracia']   \n",
       "..        ...         ...                                                ...   \n",
       "458  87016038  Voluntario  ['Nuevas Tecnologías', 'Burocracia', 'Servicio...   \n",
       "157  43107968  Voluntario  ['Salud', 'El día a día', 'Servicios del Munic...   \n",
       "130  37937627  Voluntario  ['Nuevas Tecnologías', 'Salud', 'Servicios del...   \n",
       "162  14152370  Voluntario                         ['Salud', 'Amigos y Ocio']   \n",
       "102  55026898       Ambos  ['Nuevas Tecnologías', 'Burocracia', 'Servicio...   \n",
       "\n",
       "     status        fotoV                                                bio  \\\n",
       "29        0  hombre2.png  Quiero devolver a la comunidad lo que me diero...   \n",
       "9         0  hombre2.png  Me encanta sertirme útil y por eso estaría enc...   \n",
       "234       1  hombre1.png  Me gusta trabajar con otras personas, codo con...   \n",
       "486       1  hombre1.png  Quiero devolver a la comunidad lo que me diero...   \n",
       "118       1  hombre1.png  Me gusta trabajar con otras personas, codo con...   \n",
       "..      ...          ...                                                ...   \n",
       "458       1   mujer2.png  Soy una persona muy atenta. Me gusta aportar m...   \n",
       "157       1   mujer1.png  Soy una persona a la que le fascina conocer pe...   \n",
       "130       1  hombre1.png  Soy una persona a la que le fascina conocer pe...   \n",
       "162       0   mujer2.png  Me gusta trabajar con otras personas, codo con...   \n",
       "102       1  hombre1.png  Soy una persona a la que le fascina conocer pe...   \n",
       "\n",
       "    fechaInscripcion  estrellas  nOpinion  \n",
       "29           2019-01        4.0         1  \n",
       "9            2019-01        2.0         1  \n",
       "234          2019-01        1.5         2  \n",
       "486          2019-01        4.0         1  \n",
       "118          2019-01        5.0         1  \n",
       "..               ...        ...       ...  \n",
       "458          2022-10        5.0         1  \n",
       "157          2022-10        3.0         2  \n",
       "130          2022-10        3.0         2  \n",
       "162          2022-11        1.5         2  \n",
       "102          2022-12        5.0         1  \n",
       "\n",
       "[500 rows x 14 columns]"
      ]
     },
     "execution_count": 37,
     "metadata": {},
     "output_type": "execute_result"
    }
   ],
   "source": [
    "voluntarios"
   ]
  },
  {
   "cell_type": "code",
   "execution_count": 38,
   "metadata": {},
   "outputs": [
    {
     "name": "stdout",
     "output_type": "stream",
     "text": [
      "(48, 1)\n",
      "                  nombreApellidos\n",
      "fechaInscripcion                 \n",
      "2019-01                         6\n",
      "2019-02                         3\n",
      "2019-03                         2\n",
      "2019-04                         4\n",
      "2019-05                        11\n",
      "                  nombreApellidos\n",
      "fechaInscripcion                 \n",
      "2022-08                         1\n",
      "2022-09                         2\n",
      "2022-10                         4\n",
      "2022-11                         1\n",
      "2022-12                         1\n"
     ]
    }
   ],
   "source": [
    "#hacemos groupby por meses y contamos la cantidad de personas inscritas\n",
    "inscripciones_mensuales_v= voluntarios.groupby('fechaInscripcion')['nombreApellidos'].count()\n",
    "inscripciones_mensuales_v=inscripciones_mensuales_v.to_frame()\n",
    "print(inscripciones_mensuales_v.shape)\n",
    "print(inscripciones_mensuales_v.head(5))\n",
    "print(inscripciones_mensuales_v.tail(5))"
   ]
  },
  {
   "cell_type": "code",
   "execution_count": 39,
   "metadata": {},
   "outputs": [
    {
     "data": {
      "text/html": [
       "<div>\n",
       "<style scoped>\n",
       "    .dataframe tbody tr th:only-of-type {\n",
       "        vertical-align: middle;\n",
       "    }\n",
       "\n",
       "    .dataframe tbody tr th {\n",
       "        vertical-align: top;\n",
       "    }\n",
       "\n",
       "    .dataframe thead th {\n",
       "        text-align: right;\n",
       "    }\n",
       "</style>\n",
       "<table border=\"1\" class=\"dataframe\">\n",
       "  <thead>\n",
       "    <tr style=\"text-align: right;\">\n",
       "      <th></th>\n",
       "      <th>fechaInscripcion</th>\n",
       "      <th>nombreApellidos</th>\n",
       "    </tr>\n",
       "  </thead>\n",
       "  <tbody>\n",
       "    <tr>\n",
       "      <th>0</th>\n",
       "      <td>2019-01</td>\n",
       "      <td>6</td>\n",
       "    </tr>\n",
       "    <tr>\n",
       "      <th>1</th>\n",
       "      <td>2019-02</td>\n",
       "      <td>3</td>\n",
       "    </tr>\n",
       "    <tr>\n",
       "      <th>2</th>\n",
       "      <td>2019-03</td>\n",
       "      <td>2</td>\n",
       "    </tr>\n",
       "    <tr>\n",
       "      <th>3</th>\n",
       "      <td>2019-04</td>\n",
       "      <td>4</td>\n",
       "    </tr>\n",
       "    <tr>\n",
       "      <th>4</th>\n",
       "      <td>2019-05</td>\n",
       "      <td>11</td>\n",
       "    </tr>\n",
       "  </tbody>\n",
       "</table>\n",
       "</div>"
      ],
      "text/plain": [
       "  fechaInscripcion  nombreApellidos\n",
       "0          2019-01                6\n",
       "1          2019-02                3\n",
       "2          2019-03                2\n",
       "3          2019-04                4\n",
       "4          2019-05               11"
      ]
     },
     "execution_count": 39,
     "metadata": {},
     "output_type": "execute_result"
    }
   ],
   "source": [
    "#ponemos el indice como columna\n",
    "inscripciones_mensuales_v = inscripciones_mensuales_v.reset_index()\n",
    "inscripciones_mensuales_v.head()"
   ]
  },
  {
   "cell_type": "code",
   "execution_count": 43,
   "metadata": {},
   "outputs": [
    {
     "data": {
      "text/html": [
       "<div>\n",
       "<style scoped>\n",
       "    .dataframe tbody tr th:only-of-type {\n",
       "        vertical-align: middle;\n",
       "    }\n",
       "\n",
       "    .dataframe tbody tr th {\n",
       "        vertical-align: top;\n",
       "    }\n",
       "\n",
       "    .dataframe thead th {\n",
       "        text-align: right;\n",
       "    }\n",
       "</style>\n",
       "<table border=\"1\" class=\"dataframe\">\n",
       "  <thead>\n",
       "    <tr style=\"text-align: right;\">\n",
       "      <th></th>\n",
       "      <th>fechaInscripcion</th>\n",
       "      <th>nPersonasInscritas</th>\n",
       "    </tr>\n",
       "  </thead>\n",
       "  <tbody>\n",
       "    <tr>\n",
       "      <th>0</th>\n",
       "      <td>2019-01</td>\n",
       "      <td>6</td>\n",
       "    </tr>\n",
       "    <tr>\n",
       "      <th>1</th>\n",
       "      <td>2019-02</td>\n",
       "      <td>3</td>\n",
       "    </tr>\n",
       "    <tr>\n",
       "      <th>2</th>\n",
       "      <td>2019-03</td>\n",
       "      <td>2</td>\n",
       "    </tr>\n",
       "    <tr>\n",
       "      <th>3</th>\n",
       "      <td>2019-04</td>\n",
       "      <td>4</td>\n",
       "    </tr>\n",
       "    <tr>\n",
       "      <th>4</th>\n",
       "      <td>2019-05</td>\n",
       "      <td>11</td>\n",
       "    </tr>\n",
       "  </tbody>\n",
       "</table>\n",
       "</div>"
      ],
      "text/plain": [
       "  fechaInscripcion  nPersonasInscritas\n",
       "0          2019-01                   6\n",
       "1          2019-02                   3\n",
       "2          2019-03                   2\n",
       "3          2019-04                   4\n",
       "4          2019-05                  11"
      ]
     },
     "execution_count": 43,
     "metadata": {},
     "output_type": "execute_result"
    }
   ],
   "source": [
    "#cambiamos el nombre d ela columna\n",
    "inscripciones_mensuales_v=inscripciones_mensuales_v.rename(columns={'nombreApellidos':'nPersonasInscritas'})\n",
    "inscripciones_mensuales_v.head()"
   ]
  },
  {
   "cell_type": "code",
   "execution_count": 49,
   "metadata": {},
   "outputs": [
    {
     "data": {
      "application/vnd.plotly.v1+json": {
       "config": {
        "plotlyServerURL": "https://plot.ly"
       },
       "data": [
        {
         "marker": {
          "color": "rgba(16, 112, 2, 0.8)"
         },
         "mode": "lines+markers",
         "name": "Nº Personas Inscritas",
         "type": "scatter",
         "x": [
          "2019-01",
          "2019-02",
          "2019-03",
          "2019-04",
          "2019-05",
          "2019-06",
          "2019-07",
          "2019-08",
          "2019-09",
          "2019-10",
          "2019-11",
          "2019-12",
          "2020-01",
          "2020-02",
          "2020-03",
          "2020-04",
          "2020-05",
          "2020-06",
          "2020-07",
          "2020-08",
          "2020-09",
          "2020-10",
          "2020-11",
          "2020-12",
          "2021-01",
          "2021-02",
          "2021-03",
          "2021-04",
          "2021-05",
          "2021-06",
          "2021-07",
          "2021-08",
          "2021-09",
          "2021-10",
          "2021-11",
          "2021-12",
          "2022-01",
          "2022-02",
          "2022-03",
          "2022-04",
          "2022-05",
          "2022-06",
          "2022-07",
          "2022-08",
          "2022-09",
          "2022-10",
          "2022-11",
          "2022-12"
         ],
         "y": [
          6,
          3,
          2,
          4,
          11,
          7,
          8,
          8,
          10,
          7,
          15,
          8,
          15,
          10,
          17,
          9,
          16,
          15,
          12,
          14,
          12,
          10,
          14,
          23,
          12,
          12,
          9,
          19,
          9,
          16,
          11,
          17,
          15,
          15,
          13,
          14,
          13,
          9,
          13,
          6,
          13,
          18,
          1,
          1,
          2,
          4,
          1,
          1
         ]
        }
       ],
       "layout": {
        "template": {
         "data": {
          "bar": [
           {
            "error_x": {
             "color": "#2a3f5f"
            },
            "error_y": {
             "color": "#2a3f5f"
            },
            "marker": {
             "line": {
              "color": "#E5ECF6",
              "width": 0.5
             },
             "pattern": {
              "fillmode": "overlay",
              "size": 10,
              "solidity": 0.2
             }
            },
            "type": "bar"
           }
          ],
          "barpolar": [
           {
            "marker": {
             "line": {
              "color": "#E5ECF6",
              "width": 0.5
             },
             "pattern": {
              "fillmode": "overlay",
              "size": 10,
              "solidity": 0.2
             }
            },
            "type": "barpolar"
           }
          ],
          "carpet": [
           {
            "aaxis": {
             "endlinecolor": "#2a3f5f",
             "gridcolor": "white",
             "linecolor": "white",
             "minorgridcolor": "white",
             "startlinecolor": "#2a3f5f"
            },
            "baxis": {
             "endlinecolor": "#2a3f5f",
             "gridcolor": "white",
             "linecolor": "white",
             "minorgridcolor": "white",
             "startlinecolor": "#2a3f5f"
            },
            "type": "carpet"
           }
          ],
          "choropleth": [
           {
            "colorbar": {
             "outlinewidth": 0,
             "ticks": ""
            },
            "type": "choropleth"
           }
          ],
          "contour": [
           {
            "colorbar": {
             "outlinewidth": 0,
             "ticks": ""
            },
            "colorscale": [
             [
              0,
              "#0d0887"
             ],
             [
              0.1111111111111111,
              "#46039f"
             ],
             [
              0.2222222222222222,
              "#7201a8"
             ],
             [
              0.3333333333333333,
              "#9c179e"
             ],
             [
              0.4444444444444444,
              "#bd3786"
             ],
             [
              0.5555555555555556,
              "#d8576b"
             ],
             [
              0.6666666666666666,
              "#ed7953"
             ],
             [
              0.7777777777777778,
              "#fb9f3a"
             ],
             [
              0.8888888888888888,
              "#fdca26"
             ],
             [
              1,
              "#f0f921"
             ]
            ],
            "type": "contour"
           }
          ],
          "contourcarpet": [
           {
            "colorbar": {
             "outlinewidth": 0,
             "ticks": ""
            },
            "type": "contourcarpet"
           }
          ],
          "heatmap": [
           {
            "colorbar": {
             "outlinewidth": 0,
             "ticks": ""
            },
            "colorscale": [
             [
              0,
              "#0d0887"
             ],
             [
              0.1111111111111111,
              "#46039f"
             ],
             [
              0.2222222222222222,
              "#7201a8"
             ],
             [
              0.3333333333333333,
              "#9c179e"
             ],
             [
              0.4444444444444444,
              "#bd3786"
             ],
             [
              0.5555555555555556,
              "#d8576b"
             ],
             [
              0.6666666666666666,
              "#ed7953"
             ],
             [
              0.7777777777777778,
              "#fb9f3a"
             ],
             [
              0.8888888888888888,
              "#fdca26"
             ],
             [
              1,
              "#f0f921"
             ]
            ],
            "type": "heatmap"
           }
          ],
          "heatmapgl": [
           {
            "colorbar": {
             "outlinewidth": 0,
             "ticks": ""
            },
            "colorscale": [
             [
              0,
              "#0d0887"
             ],
             [
              0.1111111111111111,
              "#46039f"
             ],
             [
              0.2222222222222222,
              "#7201a8"
             ],
             [
              0.3333333333333333,
              "#9c179e"
             ],
             [
              0.4444444444444444,
              "#bd3786"
             ],
             [
              0.5555555555555556,
              "#d8576b"
             ],
             [
              0.6666666666666666,
              "#ed7953"
             ],
             [
              0.7777777777777778,
              "#fb9f3a"
             ],
             [
              0.8888888888888888,
              "#fdca26"
             ],
             [
              1,
              "#f0f921"
             ]
            ],
            "type": "heatmapgl"
           }
          ],
          "histogram": [
           {
            "marker": {
             "pattern": {
              "fillmode": "overlay",
              "size": 10,
              "solidity": 0.2
             }
            },
            "type": "histogram"
           }
          ],
          "histogram2d": [
           {
            "colorbar": {
             "outlinewidth": 0,
             "ticks": ""
            },
            "colorscale": [
             [
              0,
              "#0d0887"
             ],
             [
              0.1111111111111111,
              "#46039f"
             ],
             [
              0.2222222222222222,
              "#7201a8"
             ],
             [
              0.3333333333333333,
              "#9c179e"
             ],
             [
              0.4444444444444444,
              "#bd3786"
             ],
             [
              0.5555555555555556,
              "#d8576b"
             ],
             [
              0.6666666666666666,
              "#ed7953"
             ],
             [
              0.7777777777777778,
              "#fb9f3a"
             ],
             [
              0.8888888888888888,
              "#fdca26"
             ],
             [
              1,
              "#f0f921"
             ]
            ],
            "type": "histogram2d"
           }
          ],
          "histogram2dcontour": [
           {
            "colorbar": {
             "outlinewidth": 0,
             "ticks": ""
            },
            "colorscale": [
             [
              0,
              "#0d0887"
             ],
             [
              0.1111111111111111,
              "#46039f"
             ],
             [
              0.2222222222222222,
              "#7201a8"
             ],
             [
              0.3333333333333333,
              "#9c179e"
             ],
             [
              0.4444444444444444,
              "#bd3786"
             ],
             [
              0.5555555555555556,
              "#d8576b"
             ],
             [
              0.6666666666666666,
              "#ed7953"
             ],
             [
              0.7777777777777778,
              "#fb9f3a"
             ],
             [
              0.8888888888888888,
              "#fdca26"
             ],
             [
              1,
              "#f0f921"
             ]
            ],
            "type": "histogram2dcontour"
           }
          ],
          "mesh3d": [
           {
            "colorbar": {
             "outlinewidth": 0,
             "ticks": ""
            },
            "type": "mesh3d"
           }
          ],
          "parcoords": [
           {
            "line": {
             "colorbar": {
              "outlinewidth": 0,
              "ticks": ""
             }
            },
            "type": "parcoords"
           }
          ],
          "pie": [
           {
            "automargin": true,
            "type": "pie"
           }
          ],
          "scatter": [
           {
            "fillpattern": {
             "fillmode": "overlay",
             "size": 10,
             "solidity": 0.2
            },
            "type": "scatter"
           }
          ],
          "scatter3d": [
           {
            "line": {
             "colorbar": {
              "outlinewidth": 0,
              "ticks": ""
             }
            },
            "marker": {
             "colorbar": {
              "outlinewidth": 0,
              "ticks": ""
             }
            },
            "type": "scatter3d"
           }
          ],
          "scattercarpet": [
           {
            "marker": {
             "colorbar": {
              "outlinewidth": 0,
              "ticks": ""
             }
            },
            "type": "scattercarpet"
           }
          ],
          "scattergeo": [
           {
            "marker": {
             "colorbar": {
              "outlinewidth": 0,
              "ticks": ""
             }
            },
            "type": "scattergeo"
           }
          ],
          "scattergl": [
           {
            "marker": {
             "colorbar": {
              "outlinewidth": 0,
              "ticks": ""
             }
            },
            "type": "scattergl"
           }
          ],
          "scattermapbox": [
           {
            "marker": {
             "colorbar": {
              "outlinewidth": 0,
              "ticks": ""
             }
            },
            "type": "scattermapbox"
           }
          ],
          "scatterpolar": [
           {
            "marker": {
             "colorbar": {
              "outlinewidth": 0,
              "ticks": ""
             }
            },
            "type": "scatterpolar"
           }
          ],
          "scatterpolargl": [
           {
            "marker": {
             "colorbar": {
              "outlinewidth": 0,
              "ticks": ""
             }
            },
            "type": "scatterpolargl"
           }
          ],
          "scatterternary": [
           {
            "marker": {
             "colorbar": {
              "outlinewidth": 0,
              "ticks": ""
             }
            },
            "type": "scatterternary"
           }
          ],
          "surface": [
           {
            "colorbar": {
             "outlinewidth": 0,
             "ticks": ""
            },
            "colorscale": [
             [
              0,
              "#0d0887"
             ],
             [
              0.1111111111111111,
              "#46039f"
             ],
             [
              0.2222222222222222,
              "#7201a8"
             ],
             [
              0.3333333333333333,
              "#9c179e"
             ],
             [
              0.4444444444444444,
              "#bd3786"
             ],
             [
              0.5555555555555556,
              "#d8576b"
             ],
             [
              0.6666666666666666,
              "#ed7953"
             ],
             [
              0.7777777777777778,
              "#fb9f3a"
             ],
             [
              0.8888888888888888,
              "#fdca26"
             ],
             [
              1,
              "#f0f921"
             ]
            ],
            "type": "surface"
           }
          ],
          "table": [
           {
            "cells": {
             "fill": {
              "color": "#EBF0F8"
             },
             "line": {
              "color": "white"
             }
            },
            "header": {
             "fill": {
              "color": "#C8D4E3"
             },
             "line": {
              "color": "white"
             }
            },
            "type": "table"
           }
          ]
         },
         "layout": {
          "annotationdefaults": {
           "arrowcolor": "#2a3f5f",
           "arrowhead": 0,
           "arrowwidth": 1
          },
          "autotypenumbers": "strict",
          "coloraxis": {
           "colorbar": {
            "outlinewidth": 0,
            "ticks": ""
           }
          },
          "colorscale": {
           "diverging": [
            [
             0,
             "#8e0152"
            ],
            [
             0.1,
             "#c51b7d"
            ],
            [
             0.2,
             "#de77ae"
            ],
            [
             0.3,
             "#f1b6da"
            ],
            [
             0.4,
             "#fde0ef"
            ],
            [
             0.5,
             "#f7f7f7"
            ],
            [
             0.6,
             "#e6f5d0"
            ],
            [
             0.7,
             "#b8e186"
            ],
            [
             0.8,
             "#7fbc41"
            ],
            [
             0.9,
             "#4d9221"
            ],
            [
             1,
             "#276419"
            ]
           ],
           "sequential": [
            [
             0,
             "#0d0887"
            ],
            [
             0.1111111111111111,
             "#46039f"
            ],
            [
             0.2222222222222222,
             "#7201a8"
            ],
            [
             0.3333333333333333,
             "#9c179e"
            ],
            [
             0.4444444444444444,
             "#bd3786"
            ],
            [
             0.5555555555555556,
             "#d8576b"
            ],
            [
             0.6666666666666666,
             "#ed7953"
            ],
            [
             0.7777777777777778,
             "#fb9f3a"
            ],
            [
             0.8888888888888888,
             "#fdca26"
            ],
            [
             1,
             "#f0f921"
            ]
           ],
           "sequentialminus": [
            [
             0,
             "#0d0887"
            ],
            [
             0.1111111111111111,
             "#46039f"
            ],
            [
             0.2222222222222222,
             "#7201a8"
            ],
            [
             0.3333333333333333,
             "#9c179e"
            ],
            [
             0.4444444444444444,
             "#bd3786"
            ],
            [
             0.5555555555555556,
             "#d8576b"
            ],
            [
             0.6666666666666666,
             "#ed7953"
            ],
            [
             0.7777777777777778,
             "#fb9f3a"
            ],
            [
             0.8888888888888888,
             "#fdca26"
            ],
            [
             1,
             "#f0f921"
            ]
           ]
          },
          "colorway": [
           "#636efa",
           "#EF553B",
           "#00cc96",
           "#ab63fa",
           "#FFA15A",
           "#19d3f3",
           "#FF6692",
           "#B6E880",
           "#FF97FF",
           "#FECB52"
          ],
          "font": {
           "color": "#2a3f5f"
          },
          "geo": {
           "bgcolor": "white",
           "lakecolor": "white",
           "landcolor": "#E5ECF6",
           "showlakes": true,
           "showland": true,
           "subunitcolor": "white"
          },
          "hoverlabel": {
           "align": "left"
          },
          "hovermode": "closest",
          "mapbox": {
           "style": "light"
          },
          "paper_bgcolor": "white",
          "plot_bgcolor": "#E5ECF6",
          "polar": {
           "angularaxis": {
            "gridcolor": "white",
            "linecolor": "white",
            "ticks": ""
           },
           "bgcolor": "#E5ECF6",
           "radialaxis": {
            "gridcolor": "white",
            "linecolor": "white",
            "ticks": ""
           }
          },
          "scene": {
           "xaxis": {
            "backgroundcolor": "#E5ECF6",
            "gridcolor": "white",
            "gridwidth": 2,
            "linecolor": "white",
            "showbackground": true,
            "ticks": "",
            "zerolinecolor": "white"
           },
           "yaxis": {
            "backgroundcolor": "#E5ECF6",
            "gridcolor": "white",
            "gridwidth": 2,
            "linecolor": "white",
            "showbackground": true,
            "ticks": "",
            "zerolinecolor": "white"
           },
           "zaxis": {
            "backgroundcolor": "#E5ECF6",
            "gridcolor": "white",
            "gridwidth": 2,
            "linecolor": "white",
            "showbackground": true,
            "ticks": "",
            "zerolinecolor": "white"
           }
          },
          "shapedefaults": {
           "line": {
            "color": "#2a3f5f"
           }
          },
          "ternary": {
           "aaxis": {
            "gridcolor": "white",
            "linecolor": "white",
            "ticks": ""
           },
           "baxis": {
            "gridcolor": "white",
            "linecolor": "white",
            "ticks": ""
           },
           "bgcolor": "#E5ECF6",
           "caxis": {
            "gridcolor": "white",
            "linecolor": "white",
            "ticks": ""
           }
          },
          "title": {
           "x": 0.05
          },
          "xaxis": {
           "automargin": true,
           "gridcolor": "white",
           "linecolor": "white",
           "ticks": "",
           "title": {
            "standoff": 15
           },
           "zerolinecolor": "white",
           "zerolinewidth": 2
          },
          "yaxis": {
           "automargin": true,
           "gridcolor": "white",
           "linecolor": "white",
           "ticks": "",
           "title": {
            "standoff": 15
           },
           "zerolinecolor": "white",
           "zerolinewidth": 2
          }
         }
        },
        "title": {
         "text": "Personas Inscritas por Mes"
        },
        "xaxis": {
         "anchor": "y",
         "domain": [
          0,
          0.94
         ],
         "title": {
          "text": "Meses de 01/2019 a 12/2022"
         }
        },
        "yaxis": {
         "anchor": "x",
         "domain": [
          0,
          1
         ],
         "title": {
          "text": "Nº Voluntarios Inscritos"
         }
        },
        "yaxis2": {
         "anchor": "x",
         "overlaying": "y",
         "side": "right",
         "title": {
          "text": "Nº Voluntarios Inscritos"
         }
        }
       }
      }
     },
     "metadata": {},
     "output_type": "display_data"
    }
   ],
   "source": [
    "from plotly.subplots import make_subplots\n",
    "\n",
    "fig = make_subplots(specs=[[{'secondary_y': True}]])\n",
    "\n",
    "fig.add_trace(\n",
    "    go.Scatter(\n",
    "    x = inscripciones_mensuales_v['fechaInscripcion'],\n",
    "    y = inscripciones_mensuales_v['nPersonasInscritas'],\n",
    "    name = 'Nº Personas Inscritas',\n",
    "    mode = 'lines+markers',\n",
    "    marker = dict(color = 'rgba(16, 112, 2, 0.8)'))\n",
    ")\n",
    "\n",
    "fig.update_layout(\n",
    "    title_text='Personas Inscritas por Mes'\n",
    ")\n",
    "\n",
    "fig.update_xaxes(title_text='Meses de 01/2019 a 12/2022')\n",
    "\n",
    "fig.update_yaxes(title_text='Nº Voluntarios Inscritos')\n",
    "\n",
    "fig.show()\n"
   ]
  },
  {
   "cell_type": "code",
   "execution_count": 48,
   "metadata": {},
   "outputs": [
    {
     "data": {
      "application/vnd.plotly.v1+json": {
       "config": {
        "plotlyServerURL": "https://plot.ly"
       },
       "data": [
        {
         "alignmentgroup": "True",
         "hovertemplate": "fechaInscripcion=%{x}<br>nPersonasInscritas=%{y}<extra></extra>",
         "legendgroup": "",
         "marker": {
          "color": "#636efa",
          "pattern": {
           "shape": ""
          }
         },
         "name": "",
         "offsetgroup": "",
         "orientation": "v",
         "showlegend": false,
         "textposition": "auto",
         "type": "bar",
         "x": [
          "2019-01",
          "2019-02",
          "2019-03",
          "2019-04",
          "2019-05",
          "2019-06",
          "2019-07",
          "2019-08",
          "2019-09",
          "2019-10",
          "2019-11",
          "2019-12",
          "2020-01",
          "2020-02",
          "2020-03",
          "2020-04",
          "2020-05",
          "2020-06",
          "2020-07",
          "2020-08",
          "2020-09",
          "2020-10",
          "2020-11",
          "2020-12",
          "2021-01",
          "2021-02",
          "2021-03",
          "2021-04",
          "2021-05",
          "2021-06",
          "2021-07",
          "2021-08",
          "2021-09",
          "2021-10",
          "2021-11",
          "2021-12",
          "2022-01",
          "2022-02",
          "2022-03",
          "2022-04",
          "2022-05",
          "2022-06",
          "2022-07",
          "2022-08",
          "2022-09",
          "2022-10",
          "2022-11",
          "2022-12"
         ],
         "xaxis": "x",
         "y": [
          6,
          3,
          2,
          4,
          11,
          7,
          8,
          8,
          10,
          7,
          15,
          8,
          15,
          10,
          17,
          9,
          16,
          15,
          12,
          14,
          12,
          10,
          14,
          23,
          12,
          12,
          9,
          19,
          9,
          16,
          11,
          17,
          15,
          15,
          13,
          14,
          13,
          9,
          13,
          6,
          13,
          18,
          1,
          1,
          2,
          4,
          1,
          1
         ],
         "yaxis": "y"
        }
       ],
       "layout": {
        "barmode": "relative",
        "legend": {
         "tracegroupgap": 0
        },
        "margin": {
         "t": 60
        },
        "template": {
         "data": {
          "bar": [
           {
            "error_x": {
             "color": "#2a3f5f"
            },
            "error_y": {
             "color": "#2a3f5f"
            },
            "marker": {
             "line": {
              "color": "#E5ECF6",
              "width": 0.5
             },
             "pattern": {
              "fillmode": "overlay",
              "size": 10,
              "solidity": 0.2
             }
            },
            "type": "bar"
           }
          ],
          "barpolar": [
           {
            "marker": {
             "line": {
              "color": "#E5ECF6",
              "width": 0.5
             },
             "pattern": {
              "fillmode": "overlay",
              "size": 10,
              "solidity": 0.2
             }
            },
            "type": "barpolar"
           }
          ],
          "carpet": [
           {
            "aaxis": {
             "endlinecolor": "#2a3f5f",
             "gridcolor": "white",
             "linecolor": "white",
             "minorgridcolor": "white",
             "startlinecolor": "#2a3f5f"
            },
            "baxis": {
             "endlinecolor": "#2a3f5f",
             "gridcolor": "white",
             "linecolor": "white",
             "minorgridcolor": "white",
             "startlinecolor": "#2a3f5f"
            },
            "type": "carpet"
           }
          ],
          "choropleth": [
           {
            "colorbar": {
             "outlinewidth": 0,
             "ticks": ""
            },
            "type": "choropleth"
           }
          ],
          "contour": [
           {
            "colorbar": {
             "outlinewidth": 0,
             "ticks": ""
            },
            "colorscale": [
             [
              0,
              "#0d0887"
             ],
             [
              0.1111111111111111,
              "#46039f"
             ],
             [
              0.2222222222222222,
              "#7201a8"
             ],
             [
              0.3333333333333333,
              "#9c179e"
             ],
             [
              0.4444444444444444,
              "#bd3786"
             ],
             [
              0.5555555555555556,
              "#d8576b"
             ],
             [
              0.6666666666666666,
              "#ed7953"
             ],
             [
              0.7777777777777778,
              "#fb9f3a"
             ],
             [
              0.8888888888888888,
              "#fdca26"
             ],
             [
              1,
              "#f0f921"
             ]
            ],
            "type": "contour"
           }
          ],
          "contourcarpet": [
           {
            "colorbar": {
             "outlinewidth": 0,
             "ticks": ""
            },
            "type": "contourcarpet"
           }
          ],
          "heatmap": [
           {
            "colorbar": {
             "outlinewidth": 0,
             "ticks": ""
            },
            "colorscale": [
             [
              0,
              "#0d0887"
             ],
             [
              0.1111111111111111,
              "#46039f"
             ],
             [
              0.2222222222222222,
              "#7201a8"
             ],
             [
              0.3333333333333333,
              "#9c179e"
             ],
             [
              0.4444444444444444,
              "#bd3786"
             ],
             [
              0.5555555555555556,
              "#d8576b"
             ],
             [
              0.6666666666666666,
              "#ed7953"
             ],
             [
              0.7777777777777778,
              "#fb9f3a"
             ],
             [
              0.8888888888888888,
              "#fdca26"
             ],
             [
              1,
              "#f0f921"
             ]
            ],
            "type": "heatmap"
           }
          ],
          "heatmapgl": [
           {
            "colorbar": {
             "outlinewidth": 0,
             "ticks": ""
            },
            "colorscale": [
             [
              0,
              "#0d0887"
             ],
             [
              0.1111111111111111,
              "#46039f"
             ],
             [
              0.2222222222222222,
              "#7201a8"
             ],
             [
              0.3333333333333333,
              "#9c179e"
             ],
             [
              0.4444444444444444,
              "#bd3786"
             ],
             [
              0.5555555555555556,
              "#d8576b"
             ],
             [
              0.6666666666666666,
              "#ed7953"
             ],
             [
              0.7777777777777778,
              "#fb9f3a"
             ],
             [
              0.8888888888888888,
              "#fdca26"
             ],
             [
              1,
              "#f0f921"
             ]
            ],
            "type": "heatmapgl"
           }
          ],
          "histogram": [
           {
            "marker": {
             "pattern": {
              "fillmode": "overlay",
              "size": 10,
              "solidity": 0.2
             }
            },
            "type": "histogram"
           }
          ],
          "histogram2d": [
           {
            "colorbar": {
             "outlinewidth": 0,
             "ticks": ""
            },
            "colorscale": [
             [
              0,
              "#0d0887"
             ],
             [
              0.1111111111111111,
              "#46039f"
             ],
             [
              0.2222222222222222,
              "#7201a8"
             ],
             [
              0.3333333333333333,
              "#9c179e"
             ],
             [
              0.4444444444444444,
              "#bd3786"
             ],
             [
              0.5555555555555556,
              "#d8576b"
             ],
             [
              0.6666666666666666,
              "#ed7953"
             ],
             [
              0.7777777777777778,
              "#fb9f3a"
             ],
             [
              0.8888888888888888,
              "#fdca26"
             ],
             [
              1,
              "#f0f921"
             ]
            ],
            "type": "histogram2d"
           }
          ],
          "histogram2dcontour": [
           {
            "colorbar": {
             "outlinewidth": 0,
             "ticks": ""
            },
            "colorscale": [
             [
              0,
              "#0d0887"
             ],
             [
              0.1111111111111111,
              "#46039f"
             ],
             [
              0.2222222222222222,
              "#7201a8"
             ],
             [
              0.3333333333333333,
              "#9c179e"
             ],
             [
              0.4444444444444444,
              "#bd3786"
             ],
             [
              0.5555555555555556,
              "#d8576b"
             ],
             [
              0.6666666666666666,
              "#ed7953"
             ],
             [
              0.7777777777777778,
              "#fb9f3a"
             ],
             [
              0.8888888888888888,
              "#fdca26"
             ],
             [
              1,
              "#f0f921"
             ]
            ],
            "type": "histogram2dcontour"
           }
          ],
          "mesh3d": [
           {
            "colorbar": {
             "outlinewidth": 0,
             "ticks": ""
            },
            "type": "mesh3d"
           }
          ],
          "parcoords": [
           {
            "line": {
             "colorbar": {
              "outlinewidth": 0,
              "ticks": ""
             }
            },
            "type": "parcoords"
           }
          ],
          "pie": [
           {
            "automargin": true,
            "type": "pie"
           }
          ],
          "scatter": [
           {
            "fillpattern": {
             "fillmode": "overlay",
             "size": 10,
             "solidity": 0.2
            },
            "type": "scatter"
           }
          ],
          "scatter3d": [
           {
            "line": {
             "colorbar": {
              "outlinewidth": 0,
              "ticks": ""
             }
            },
            "marker": {
             "colorbar": {
              "outlinewidth": 0,
              "ticks": ""
             }
            },
            "type": "scatter3d"
           }
          ],
          "scattercarpet": [
           {
            "marker": {
             "colorbar": {
              "outlinewidth": 0,
              "ticks": ""
             }
            },
            "type": "scattercarpet"
           }
          ],
          "scattergeo": [
           {
            "marker": {
             "colorbar": {
              "outlinewidth": 0,
              "ticks": ""
             }
            },
            "type": "scattergeo"
           }
          ],
          "scattergl": [
           {
            "marker": {
             "colorbar": {
              "outlinewidth": 0,
              "ticks": ""
             }
            },
            "type": "scattergl"
           }
          ],
          "scattermapbox": [
           {
            "marker": {
             "colorbar": {
              "outlinewidth": 0,
              "ticks": ""
             }
            },
            "type": "scattermapbox"
           }
          ],
          "scatterpolar": [
           {
            "marker": {
             "colorbar": {
              "outlinewidth": 0,
              "ticks": ""
             }
            },
            "type": "scatterpolar"
           }
          ],
          "scatterpolargl": [
           {
            "marker": {
             "colorbar": {
              "outlinewidth": 0,
              "ticks": ""
             }
            },
            "type": "scatterpolargl"
           }
          ],
          "scatterternary": [
           {
            "marker": {
             "colorbar": {
              "outlinewidth": 0,
              "ticks": ""
             }
            },
            "type": "scatterternary"
           }
          ],
          "surface": [
           {
            "colorbar": {
             "outlinewidth": 0,
             "ticks": ""
            },
            "colorscale": [
             [
              0,
              "#0d0887"
             ],
             [
              0.1111111111111111,
              "#46039f"
             ],
             [
              0.2222222222222222,
              "#7201a8"
             ],
             [
              0.3333333333333333,
              "#9c179e"
             ],
             [
              0.4444444444444444,
              "#bd3786"
             ],
             [
              0.5555555555555556,
              "#d8576b"
             ],
             [
              0.6666666666666666,
              "#ed7953"
             ],
             [
              0.7777777777777778,
              "#fb9f3a"
             ],
             [
              0.8888888888888888,
              "#fdca26"
             ],
             [
              1,
              "#f0f921"
             ]
            ],
            "type": "surface"
           }
          ],
          "table": [
           {
            "cells": {
             "fill": {
              "color": "#EBF0F8"
             },
             "line": {
              "color": "white"
             }
            },
            "header": {
             "fill": {
              "color": "#C8D4E3"
             },
             "line": {
              "color": "white"
             }
            },
            "type": "table"
           }
          ]
         },
         "layout": {
          "annotationdefaults": {
           "arrowcolor": "#2a3f5f",
           "arrowhead": 0,
           "arrowwidth": 1
          },
          "autotypenumbers": "strict",
          "coloraxis": {
           "colorbar": {
            "outlinewidth": 0,
            "ticks": ""
           }
          },
          "colorscale": {
           "diverging": [
            [
             0,
             "#8e0152"
            ],
            [
             0.1,
             "#c51b7d"
            ],
            [
             0.2,
             "#de77ae"
            ],
            [
             0.3,
             "#f1b6da"
            ],
            [
             0.4,
             "#fde0ef"
            ],
            [
             0.5,
             "#f7f7f7"
            ],
            [
             0.6,
             "#e6f5d0"
            ],
            [
             0.7,
             "#b8e186"
            ],
            [
             0.8,
             "#7fbc41"
            ],
            [
             0.9,
             "#4d9221"
            ],
            [
             1,
             "#276419"
            ]
           ],
           "sequential": [
            [
             0,
             "#0d0887"
            ],
            [
             0.1111111111111111,
             "#46039f"
            ],
            [
             0.2222222222222222,
             "#7201a8"
            ],
            [
             0.3333333333333333,
             "#9c179e"
            ],
            [
             0.4444444444444444,
             "#bd3786"
            ],
            [
             0.5555555555555556,
             "#d8576b"
            ],
            [
             0.6666666666666666,
             "#ed7953"
            ],
            [
             0.7777777777777778,
             "#fb9f3a"
            ],
            [
             0.8888888888888888,
             "#fdca26"
            ],
            [
             1,
             "#f0f921"
            ]
           ],
           "sequentialminus": [
            [
             0,
             "#0d0887"
            ],
            [
             0.1111111111111111,
             "#46039f"
            ],
            [
             0.2222222222222222,
             "#7201a8"
            ],
            [
             0.3333333333333333,
             "#9c179e"
            ],
            [
             0.4444444444444444,
             "#bd3786"
            ],
            [
             0.5555555555555556,
             "#d8576b"
            ],
            [
             0.6666666666666666,
             "#ed7953"
            ],
            [
             0.7777777777777778,
             "#fb9f3a"
            ],
            [
             0.8888888888888888,
             "#fdca26"
            ],
            [
             1,
             "#f0f921"
            ]
           ]
          },
          "colorway": [
           "#636efa",
           "#EF553B",
           "#00cc96",
           "#ab63fa",
           "#FFA15A",
           "#19d3f3",
           "#FF6692",
           "#B6E880",
           "#FF97FF",
           "#FECB52"
          ],
          "font": {
           "color": "#2a3f5f"
          },
          "geo": {
           "bgcolor": "white",
           "lakecolor": "white",
           "landcolor": "#E5ECF6",
           "showlakes": true,
           "showland": true,
           "subunitcolor": "white"
          },
          "hoverlabel": {
           "align": "left"
          },
          "hovermode": "closest",
          "mapbox": {
           "style": "light"
          },
          "paper_bgcolor": "white",
          "plot_bgcolor": "#E5ECF6",
          "polar": {
           "angularaxis": {
            "gridcolor": "white",
            "linecolor": "white",
            "ticks": ""
           },
           "bgcolor": "#E5ECF6",
           "radialaxis": {
            "gridcolor": "white",
            "linecolor": "white",
            "ticks": ""
           }
          },
          "scene": {
           "xaxis": {
            "backgroundcolor": "#E5ECF6",
            "gridcolor": "white",
            "gridwidth": 2,
            "linecolor": "white",
            "showbackground": true,
            "ticks": "",
            "zerolinecolor": "white"
           },
           "yaxis": {
            "backgroundcolor": "#E5ECF6",
            "gridcolor": "white",
            "gridwidth": 2,
            "linecolor": "white",
            "showbackground": true,
            "ticks": "",
            "zerolinecolor": "white"
           },
           "zaxis": {
            "backgroundcolor": "#E5ECF6",
            "gridcolor": "white",
            "gridwidth": 2,
            "linecolor": "white",
            "showbackground": true,
            "ticks": "",
            "zerolinecolor": "white"
           }
          },
          "shapedefaults": {
           "line": {
            "color": "#2a3f5f"
           }
          },
          "ternary": {
           "aaxis": {
            "gridcolor": "white",
            "linecolor": "white",
            "ticks": ""
           },
           "baxis": {
            "gridcolor": "white",
            "linecolor": "white",
            "ticks": ""
           },
           "bgcolor": "#E5ECF6",
           "caxis": {
            "gridcolor": "white",
            "linecolor": "white",
            "ticks": ""
           }
          },
          "title": {
           "x": 0.05
          },
          "xaxis": {
           "automargin": true,
           "gridcolor": "white",
           "linecolor": "white",
           "ticks": "",
           "title": {
            "standoff": 15
           },
           "zerolinecolor": "white",
           "zerolinewidth": 2
          },
          "yaxis": {
           "automargin": true,
           "gridcolor": "white",
           "linecolor": "white",
           "ticks": "",
           "title": {
            "standoff": 15
           },
           "zerolinecolor": "white",
           "zerolinewidth": 2
          }
         }
        },
        "xaxis": {
         "anchor": "y",
         "domain": [
          0,
          1
         ],
         "title": {
          "text": "Meses de 01/2019 a 12/2022"
         }
        },
        "yaxis": {
         "anchor": "x",
         "domain": [
          0,
          1
         ],
         "title": {
          "text": "Nº Voluntarios Inscritos"
         }
        }
       }
      }
     },
     "metadata": {},
     "output_type": "display_data"
    }
   ],
   "source": [
    "fig = px.bar(inscripciones_mensuales_v, y='nPersonasInscritas', x='fechaInscripcion')\n",
    "\n",
    "fig.update_xaxes(title_text='Meses de 01/2019 a 12/2022')\n",
    "\n",
    "fig.update_yaxes(title_text='Nº Voluntarios Inscritos')\n",
    "\n",
    "fig.show()"
   ]
  },
  {
   "cell_type": "markdown",
   "metadata": {},
   "source": [
    "### Gráfico de nº Voluntarios por Valoración"
   ]
  },
  {
   "cell_type": "code",
   "execution_count": 53,
   "metadata": {},
   "outputs": [
    {
     "name": "stdout",
     "output_type": "stream",
     "text": [
      "(9, 1)\n",
      "           nombreApellidos\n",
      "estrellas                 \n",
      "1.0                     73\n",
      "1.5                     21\n",
      "2.0                     91\n",
      "2.5                     31\n",
      "3.0                     82\n",
      "           nombreApellidos\n",
      "estrellas                 \n",
      "3.0                     82\n",
      "3.5                     26\n",
      "4.0                     87\n",
      "4.5                     14\n",
      "5.0                     75\n"
     ]
    }
   ],
   "source": [
    "#hacemos groupby por meses y contamos la cantidad de voluntarios por cada valoracion\n",
    "voluntarios_estrellas= voluntarios.groupby('estrellas')['nombreApellidos'].count()\n",
    "voluntarios_estrellas=voluntarios_estrellas.to_frame()\n",
    "print(voluntarios_estrellas.shape)\n",
    "print(voluntarios_estrellas.head(5))\n",
    "print(voluntarios_estrellas.tail(5))"
   ]
  },
  {
   "cell_type": "code",
   "execution_count": 54,
   "metadata": {},
   "outputs": [
    {
     "data": {
      "text/html": [
       "<div>\n",
       "<style scoped>\n",
       "    .dataframe tbody tr th:only-of-type {\n",
       "        vertical-align: middle;\n",
       "    }\n",
       "\n",
       "    .dataframe tbody tr th {\n",
       "        vertical-align: top;\n",
       "    }\n",
       "\n",
       "    .dataframe thead th {\n",
       "        text-align: right;\n",
       "    }\n",
       "</style>\n",
       "<table border=\"1\" class=\"dataframe\">\n",
       "  <thead>\n",
       "    <tr style=\"text-align: right;\">\n",
       "      <th></th>\n",
       "      <th>estrellas</th>\n",
       "      <th>nombreApellidos</th>\n",
       "    </tr>\n",
       "  </thead>\n",
       "  <tbody>\n",
       "    <tr>\n",
       "      <th>0</th>\n",
       "      <td>1.0</td>\n",
       "      <td>73</td>\n",
       "    </tr>\n",
       "    <tr>\n",
       "      <th>1</th>\n",
       "      <td>1.5</td>\n",
       "      <td>21</td>\n",
       "    </tr>\n",
       "    <tr>\n",
       "      <th>2</th>\n",
       "      <td>2.0</td>\n",
       "      <td>91</td>\n",
       "    </tr>\n",
       "    <tr>\n",
       "      <th>3</th>\n",
       "      <td>2.5</td>\n",
       "      <td>31</td>\n",
       "    </tr>\n",
       "    <tr>\n",
       "      <th>4</th>\n",
       "      <td>3.0</td>\n",
       "      <td>82</td>\n",
       "    </tr>\n",
       "  </tbody>\n",
       "</table>\n",
       "</div>"
      ],
      "text/plain": [
       "   estrellas  nombreApellidos\n",
       "0        1.0               73\n",
       "1        1.5               21\n",
       "2        2.0               91\n",
       "3        2.5               31\n",
       "4        3.0               82"
      ]
     },
     "execution_count": 54,
     "metadata": {},
     "output_type": "execute_result"
    }
   ],
   "source": [
    "#ponemos el indice como columna\n",
    "voluntarios_estrellas = voluntarios_estrellas.reset_index()\n",
    "voluntarios_estrellas.head()"
   ]
  },
  {
   "cell_type": "code",
   "execution_count": 56,
   "metadata": {},
   "outputs": [
    {
     "data": {
      "text/html": [
       "<div>\n",
       "<style scoped>\n",
       "    .dataframe tbody tr th:only-of-type {\n",
       "        vertical-align: middle;\n",
       "    }\n",
       "\n",
       "    .dataframe tbody tr th {\n",
       "        vertical-align: top;\n",
       "    }\n",
       "\n",
       "    .dataframe thead th {\n",
       "        text-align: right;\n",
       "    }\n",
       "</style>\n",
       "<table border=\"1\" class=\"dataframe\">\n",
       "  <thead>\n",
       "    <tr style=\"text-align: right;\">\n",
       "      <th></th>\n",
       "      <th>estrellas</th>\n",
       "      <th>Voluntarios por Valoracion</th>\n",
       "    </tr>\n",
       "  </thead>\n",
       "  <tbody>\n",
       "    <tr>\n",
       "      <th>0</th>\n",
       "      <td>1.0</td>\n",
       "      <td>73</td>\n",
       "    </tr>\n",
       "    <tr>\n",
       "      <th>1</th>\n",
       "      <td>1.5</td>\n",
       "      <td>21</td>\n",
       "    </tr>\n",
       "    <tr>\n",
       "      <th>2</th>\n",
       "      <td>2.0</td>\n",
       "      <td>91</td>\n",
       "    </tr>\n",
       "    <tr>\n",
       "      <th>3</th>\n",
       "      <td>2.5</td>\n",
       "      <td>31</td>\n",
       "    </tr>\n",
       "    <tr>\n",
       "      <th>4</th>\n",
       "      <td>3.0</td>\n",
       "      <td>82</td>\n",
       "    </tr>\n",
       "  </tbody>\n",
       "</table>\n",
       "</div>"
      ],
      "text/plain": [
       "   estrellas  Voluntarios por Valoracion\n",
       "0        1.0                          73\n",
       "1        1.5                          21\n",
       "2        2.0                          91\n",
       "3        2.5                          31\n",
       "4        3.0                          82"
      ]
     },
     "execution_count": 56,
     "metadata": {},
     "output_type": "execute_result"
    }
   ],
   "source": [
    "#cambiamos el nombre de la columna\n",
    "voluntarios_estrellas=voluntarios_estrellas.rename(columns={'nombreApellidos':'Nº Voluntarios por Valoracion'})\n",
    "voluntarios_estrellas.head()"
   ]
  },
  {
   "cell_type": "code",
   "execution_count": 57,
   "metadata": {},
   "outputs": [
    {
     "data": {
      "application/vnd.plotly.v1+json": {
       "config": {
        "plotlyServerURL": "https://plot.ly"
       },
       "data": [
        {
         "domain": {
          "x": [
           0,
           1
          ],
          "y": [
           0,
           1
          ]
         },
         "hovertemplate": "estrellas=%{label}<br>Voluntarios por Valoracion=%{value}<extra></extra>",
         "labels": [
          1,
          1.5,
          2,
          2.5,
          3,
          3.5,
          4,
          4.5,
          5
         ],
         "legendgroup": "",
         "name": "",
         "showlegend": true,
         "type": "pie",
         "values": [
          73,
          21,
          91,
          31,
          82,
          26,
          87,
          14,
          75
         ]
        }
       ],
       "layout": {
        "legend": {
         "tracegroupgap": 0
        },
        "template": {
         "data": {
          "bar": [
           {
            "error_x": {
             "color": "#2a3f5f"
            },
            "error_y": {
             "color": "#2a3f5f"
            },
            "marker": {
             "line": {
              "color": "#E5ECF6",
              "width": 0.5
             },
             "pattern": {
              "fillmode": "overlay",
              "size": 10,
              "solidity": 0.2
             }
            },
            "type": "bar"
           }
          ],
          "barpolar": [
           {
            "marker": {
             "line": {
              "color": "#E5ECF6",
              "width": 0.5
             },
             "pattern": {
              "fillmode": "overlay",
              "size": 10,
              "solidity": 0.2
             }
            },
            "type": "barpolar"
           }
          ],
          "carpet": [
           {
            "aaxis": {
             "endlinecolor": "#2a3f5f",
             "gridcolor": "white",
             "linecolor": "white",
             "minorgridcolor": "white",
             "startlinecolor": "#2a3f5f"
            },
            "baxis": {
             "endlinecolor": "#2a3f5f",
             "gridcolor": "white",
             "linecolor": "white",
             "minorgridcolor": "white",
             "startlinecolor": "#2a3f5f"
            },
            "type": "carpet"
           }
          ],
          "choropleth": [
           {
            "colorbar": {
             "outlinewidth": 0,
             "ticks": ""
            },
            "type": "choropleth"
           }
          ],
          "contour": [
           {
            "colorbar": {
             "outlinewidth": 0,
             "ticks": ""
            },
            "colorscale": [
             [
              0,
              "#0d0887"
             ],
             [
              0.1111111111111111,
              "#46039f"
             ],
             [
              0.2222222222222222,
              "#7201a8"
             ],
             [
              0.3333333333333333,
              "#9c179e"
             ],
             [
              0.4444444444444444,
              "#bd3786"
             ],
             [
              0.5555555555555556,
              "#d8576b"
             ],
             [
              0.6666666666666666,
              "#ed7953"
             ],
             [
              0.7777777777777778,
              "#fb9f3a"
             ],
             [
              0.8888888888888888,
              "#fdca26"
             ],
             [
              1,
              "#f0f921"
             ]
            ],
            "type": "contour"
           }
          ],
          "contourcarpet": [
           {
            "colorbar": {
             "outlinewidth": 0,
             "ticks": ""
            },
            "type": "contourcarpet"
           }
          ],
          "heatmap": [
           {
            "colorbar": {
             "outlinewidth": 0,
             "ticks": ""
            },
            "colorscale": [
             [
              0,
              "#0d0887"
             ],
             [
              0.1111111111111111,
              "#46039f"
             ],
             [
              0.2222222222222222,
              "#7201a8"
             ],
             [
              0.3333333333333333,
              "#9c179e"
             ],
             [
              0.4444444444444444,
              "#bd3786"
             ],
             [
              0.5555555555555556,
              "#d8576b"
             ],
             [
              0.6666666666666666,
              "#ed7953"
             ],
             [
              0.7777777777777778,
              "#fb9f3a"
             ],
             [
              0.8888888888888888,
              "#fdca26"
             ],
             [
              1,
              "#f0f921"
             ]
            ],
            "type": "heatmap"
           }
          ],
          "heatmapgl": [
           {
            "colorbar": {
             "outlinewidth": 0,
             "ticks": ""
            },
            "colorscale": [
             [
              0,
              "#0d0887"
             ],
             [
              0.1111111111111111,
              "#46039f"
             ],
             [
              0.2222222222222222,
              "#7201a8"
             ],
             [
              0.3333333333333333,
              "#9c179e"
             ],
             [
              0.4444444444444444,
              "#bd3786"
             ],
             [
              0.5555555555555556,
              "#d8576b"
             ],
             [
              0.6666666666666666,
              "#ed7953"
             ],
             [
              0.7777777777777778,
              "#fb9f3a"
             ],
             [
              0.8888888888888888,
              "#fdca26"
             ],
             [
              1,
              "#f0f921"
             ]
            ],
            "type": "heatmapgl"
           }
          ],
          "histogram": [
           {
            "marker": {
             "pattern": {
              "fillmode": "overlay",
              "size": 10,
              "solidity": 0.2
             }
            },
            "type": "histogram"
           }
          ],
          "histogram2d": [
           {
            "colorbar": {
             "outlinewidth": 0,
             "ticks": ""
            },
            "colorscale": [
             [
              0,
              "#0d0887"
             ],
             [
              0.1111111111111111,
              "#46039f"
             ],
             [
              0.2222222222222222,
              "#7201a8"
             ],
             [
              0.3333333333333333,
              "#9c179e"
             ],
             [
              0.4444444444444444,
              "#bd3786"
             ],
             [
              0.5555555555555556,
              "#d8576b"
             ],
             [
              0.6666666666666666,
              "#ed7953"
             ],
             [
              0.7777777777777778,
              "#fb9f3a"
             ],
             [
              0.8888888888888888,
              "#fdca26"
             ],
             [
              1,
              "#f0f921"
             ]
            ],
            "type": "histogram2d"
           }
          ],
          "histogram2dcontour": [
           {
            "colorbar": {
             "outlinewidth": 0,
             "ticks": ""
            },
            "colorscale": [
             [
              0,
              "#0d0887"
             ],
             [
              0.1111111111111111,
              "#46039f"
             ],
             [
              0.2222222222222222,
              "#7201a8"
             ],
             [
              0.3333333333333333,
              "#9c179e"
             ],
             [
              0.4444444444444444,
              "#bd3786"
             ],
             [
              0.5555555555555556,
              "#d8576b"
             ],
             [
              0.6666666666666666,
              "#ed7953"
             ],
             [
              0.7777777777777778,
              "#fb9f3a"
             ],
             [
              0.8888888888888888,
              "#fdca26"
             ],
             [
              1,
              "#f0f921"
             ]
            ],
            "type": "histogram2dcontour"
           }
          ],
          "mesh3d": [
           {
            "colorbar": {
             "outlinewidth": 0,
             "ticks": ""
            },
            "type": "mesh3d"
           }
          ],
          "parcoords": [
           {
            "line": {
             "colorbar": {
              "outlinewidth": 0,
              "ticks": ""
             }
            },
            "type": "parcoords"
           }
          ],
          "pie": [
           {
            "automargin": true,
            "type": "pie"
           }
          ],
          "scatter": [
           {
            "fillpattern": {
             "fillmode": "overlay",
             "size": 10,
             "solidity": 0.2
            },
            "type": "scatter"
           }
          ],
          "scatter3d": [
           {
            "line": {
             "colorbar": {
              "outlinewidth": 0,
              "ticks": ""
             }
            },
            "marker": {
             "colorbar": {
              "outlinewidth": 0,
              "ticks": ""
             }
            },
            "type": "scatter3d"
           }
          ],
          "scattercarpet": [
           {
            "marker": {
             "colorbar": {
              "outlinewidth": 0,
              "ticks": ""
             }
            },
            "type": "scattercarpet"
           }
          ],
          "scattergeo": [
           {
            "marker": {
             "colorbar": {
              "outlinewidth": 0,
              "ticks": ""
             }
            },
            "type": "scattergeo"
           }
          ],
          "scattergl": [
           {
            "marker": {
             "colorbar": {
              "outlinewidth": 0,
              "ticks": ""
             }
            },
            "type": "scattergl"
           }
          ],
          "scattermapbox": [
           {
            "marker": {
             "colorbar": {
              "outlinewidth": 0,
              "ticks": ""
             }
            },
            "type": "scattermapbox"
           }
          ],
          "scatterpolar": [
           {
            "marker": {
             "colorbar": {
              "outlinewidth": 0,
              "ticks": ""
             }
            },
            "type": "scatterpolar"
           }
          ],
          "scatterpolargl": [
           {
            "marker": {
             "colorbar": {
              "outlinewidth": 0,
              "ticks": ""
             }
            },
            "type": "scatterpolargl"
           }
          ],
          "scatterternary": [
           {
            "marker": {
             "colorbar": {
              "outlinewidth": 0,
              "ticks": ""
             }
            },
            "type": "scatterternary"
           }
          ],
          "surface": [
           {
            "colorbar": {
             "outlinewidth": 0,
             "ticks": ""
            },
            "colorscale": [
             [
              0,
              "#0d0887"
             ],
             [
              0.1111111111111111,
              "#46039f"
             ],
             [
              0.2222222222222222,
              "#7201a8"
             ],
             [
              0.3333333333333333,
              "#9c179e"
             ],
             [
              0.4444444444444444,
              "#bd3786"
             ],
             [
              0.5555555555555556,
              "#d8576b"
             ],
             [
              0.6666666666666666,
              "#ed7953"
             ],
             [
              0.7777777777777778,
              "#fb9f3a"
             ],
             [
              0.8888888888888888,
              "#fdca26"
             ],
             [
              1,
              "#f0f921"
             ]
            ],
            "type": "surface"
           }
          ],
          "table": [
           {
            "cells": {
             "fill": {
              "color": "#EBF0F8"
             },
             "line": {
              "color": "white"
             }
            },
            "header": {
             "fill": {
              "color": "#C8D4E3"
             },
             "line": {
              "color": "white"
             }
            },
            "type": "table"
           }
          ]
         },
         "layout": {
          "annotationdefaults": {
           "arrowcolor": "#2a3f5f",
           "arrowhead": 0,
           "arrowwidth": 1
          },
          "autotypenumbers": "strict",
          "coloraxis": {
           "colorbar": {
            "outlinewidth": 0,
            "ticks": ""
           }
          },
          "colorscale": {
           "diverging": [
            [
             0,
             "#8e0152"
            ],
            [
             0.1,
             "#c51b7d"
            ],
            [
             0.2,
             "#de77ae"
            ],
            [
             0.3,
             "#f1b6da"
            ],
            [
             0.4,
             "#fde0ef"
            ],
            [
             0.5,
             "#f7f7f7"
            ],
            [
             0.6,
             "#e6f5d0"
            ],
            [
             0.7,
             "#b8e186"
            ],
            [
             0.8,
             "#7fbc41"
            ],
            [
             0.9,
             "#4d9221"
            ],
            [
             1,
             "#276419"
            ]
           ],
           "sequential": [
            [
             0,
             "#0d0887"
            ],
            [
             0.1111111111111111,
             "#46039f"
            ],
            [
             0.2222222222222222,
             "#7201a8"
            ],
            [
             0.3333333333333333,
             "#9c179e"
            ],
            [
             0.4444444444444444,
             "#bd3786"
            ],
            [
             0.5555555555555556,
             "#d8576b"
            ],
            [
             0.6666666666666666,
             "#ed7953"
            ],
            [
             0.7777777777777778,
             "#fb9f3a"
            ],
            [
             0.8888888888888888,
             "#fdca26"
            ],
            [
             1,
             "#f0f921"
            ]
           ],
           "sequentialminus": [
            [
             0,
             "#0d0887"
            ],
            [
             0.1111111111111111,
             "#46039f"
            ],
            [
             0.2222222222222222,
             "#7201a8"
            ],
            [
             0.3333333333333333,
             "#9c179e"
            ],
            [
             0.4444444444444444,
             "#bd3786"
            ],
            [
             0.5555555555555556,
             "#d8576b"
            ],
            [
             0.6666666666666666,
             "#ed7953"
            ],
            [
             0.7777777777777778,
             "#fb9f3a"
            ],
            [
             0.8888888888888888,
             "#fdca26"
            ],
            [
             1,
             "#f0f921"
            ]
           ]
          },
          "colorway": [
           "#636efa",
           "#EF553B",
           "#00cc96",
           "#ab63fa",
           "#FFA15A",
           "#19d3f3",
           "#FF6692",
           "#B6E880",
           "#FF97FF",
           "#FECB52"
          ],
          "font": {
           "color": "#2a3f5f"
          },
          "geo": {
           "bgcolor": "white",
           "lakecolor": "white",
           "landcolor": "#E5ECF6",
           "showlakes": true,
           "showland": true,
           "subunitcolor": "white"
          },
          "hoverlabel": {
           "align": "left"
          },
          "hovermode": "closest",
          "mapbox": {
           "style": "light"
          },
          "paper_bgcolor": "white",
          "plot_bgcolor": "#E5ECF6",
          "polar": {
           "angularaxis": {
            "gridcolor": "white",
            "linecolor": "white",
            "ticks": ""
           },
           "bgcolor": "#E5ECF6",
           "radialaxis": {
            "gridcolor": "white",
            "linecolor": "white",
            "ticks": ""
           }
          },
          "scene": {
           "xaxis": {
            "backgroundcolor": "#E5ECF6",
            "gridcolor": "white",
            "gridwidth": 2,
            "linecolor": "white",
            "showbackground": true,
            "ticks": "",
            "zerolinecolor": "white"
           },
           "yaxis": {
            "backgroundcolor": "#E5ECF6",
            "gridcolor": "white",
            "gridwidth": 2,
            "linecolor": "white",
            "showbackground": true,
            "ticks": "",
            "zerolinecolor": "white"
           },
           "zaxis": {
            "backgroundcolor": "#E5ECF6",
            "gridcolor": "white",
            "gridwidth": 2,
            "linecolor": "white",
            "showbackground": true,
            "ticks": "",
            "zerolinecolor": "white"
           }
          },
          "shapedefaults": {
           "line": {
            "color": "#2a3f5f"
           }
          },
          "ternary": {
           "aaxis": {
            "gridcolor": "white",
            "linecolor": "white",
            "ticks": ""
           },
           "baxis": {
            "gridcolor": "white",
            "linecolor": "white",
            "ticks": ""
           },
           "bgcolor": "#E5ECF6",
           "caxis": {
            "gridcolor": "white",
            "linecolor": "white",
            "ticks": ""
           }
          },
          "title": {
           "x": 0.05
          },
          "xaxis": {
           "automargin": true,
           "gridcolor": "white",
           "linecolor": "white",
           "ticks": "",
           "title": {
            "standoff": 15
           },
           "zerolinecolor": "white",
           "zerolinewidth": 2
          },
          "yaxis": {
           "automargin": true,
           "gridcolor": "white",
           "linecolor": "white",
           "ticks": "",
           "title": {
            "standoff": 15
           },
           "zerolinecolor": "white",
           "zerolinewidth": 2
          }
         }
        },
        "title": {
         "text": "Nº de Voluntarios por Valoracion"
        }
       }
      }
     },
     "metadata": {},
     "output_type": "display_data"
    }
   ],
   "source": [
    "fig = px.pie(voluntarios_estrellas, values='Voluntarios por Valoracion', names='estrellas', title='Nº de Voluntarios por Valoracion')\n",
    "fig.show()"
   ]
  }
 ],
 "metadata": {
  "kernelspec": {
   "display_name": "Python 3.7.4 64-bit",
   "language": "python",
   "name": "python3"
  },
  "language_info": {
   "codemirror_mode": {
    "name": "ipython",
    "version": 3
   },
   "file_extension": ".py",
   "mimetype": "text/x-python",
   "name": "python",
   "nbconvert_exporter": "python",
   "pygments_lexer": "ipython3",
   "version": "3.7.4"
  },
  "orig_nbformat": 4,
  "vscode": {
   "interpreter": {
    "hash": "ca706a3fec59b69d5f05e107b87430eb3c4104a69157c76304ffce85c26cd350"
   }
  }
 },
 "nbformat": 4,
 "nbformat_minor": 2
}
